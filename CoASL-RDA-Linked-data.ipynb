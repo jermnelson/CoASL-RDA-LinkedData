{
 "metadata": {
  "name": ""
 },
 "nbformat": 3,
 "nbformat_minor": 0,
 "worksheets": [
  {
   "cells": [
    {
     "cell_type": "markdown",
     "metadata": {
      "slideshow": {
       "slide_type": "slide"
      }
     },
     "source": [
      "# Colorado Association of Special Libraries -- Webinar on RDA and Linked Data\n",
      "\n",
      "Participant Questions:\n",
      "\n",
      "1.   What is RDA and Linked Data?\n",
      "\n",
      "1.   How does MARC fit in?\n",
      "\n",
      "1.   Can Linked Data support the unique requirements needed by our type of libraries?"
     ]
    },
    {
     "cell_type": "markdown",
     "metadata": {
      "slideshow": {
       "slide_type": "slide"
      }
     },
     "source": []
    }
   ],
   "metadata": {}
  }
 ]
}